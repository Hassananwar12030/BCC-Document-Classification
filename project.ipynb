{
 "cells": [
  {
   "cell_type": "code",
   "execution_count": 332,
   "metadata": {},
   "outputs": [],
   "source": [
    "import os\n",
    "from tkinter import *\n",
    "from tkinter import filedialog\n",
    "from collections import defaultdict\n",
    "from sklearn.metrics.pairwise import cosine_similarity\n",
    "from sklearn.feature_extraction.text import CountVectorizer, TfidfVectorizer\n",
    "from nltk.stem import WordNetLemmatizer\n",
    "from nltk import pos_tag\n",
    "from nltk.corpus import stopwords\n",
    "from sklearn.model_selection import train_test_split\n",
    "from sklearn.naive_bayes import MultinomialNB\n",
    "from sklearn.ensemble import GradientBoostingClassifier\n",
    "from sklearn.ensemble import RandomForestClassifier\n",
    "from sklearn.cluster import KMeans\n",
    "from sklearn import preprocessing\n",
    "from sklearn.metrics import accuracy_score\n",
    "import numpy as np\n",
    "import matplotlib.pyplot as plt\n",
    "#import pandas as pd"
   ]
  },
  {
   "cell_type": "code",
   "execution_count": 333,
   "metadata": {},
   "outputs": [],
   "source": [
    "def tag_match():                                                                # for mapping of pos_tag\n",
    "    tag_map = defaultdict(lambda: 'n')\n",
    "    tag_map['J'] = 'a'\n",
    "    tag_map['V'] = 'v'\n",
    "    tag_map['R'] = 'r'\n",
    "    return tag_map\n"
   ]
  },
  {
   "cell_type": "code",
   "execution_count": 334,
   "metadata": {},
   "outputs": [],
   "source": [
    "lemmatizer = WordNetLemmatizer()\n",
    "def pre_process(words):\n",
    "    filtered_words = []\n",
    "    tag_map = tag_match()\n",
    "    stop_words = set(stopwords.words('english'))\n",
    "    dic = [word.lower() for word in words]\n",
    "    dic = [''.join(w for w in string if w.isalpha()) for string in dic] #isalnum()\n",
    "    dic = [w for w in dic if w not in stop_words]\n",
    "    dic = [word for word in dic if word]\n",
    "    for token, tag in pos_tag(dic):\n",
    "        filtered_words.append(lemmatizer.lemmatize(token, tag_map[tag[0]]))\n",
    "    for word in filtered_words:\n",
    "        if len(word) == 1:\n",
    "            filtered_words.remove(word)\n",
    "    return filtered_words"
   ]
  },
  {
   "cell_type": "code",
   "execution_count": 335,
   "metadata": {},
   "outputs": [],
   "source": [
    "def read_doc(file):\n",
    "    f = open(file, 'r')\n",
    "    doc_words = (f.read().split())\n",
    "    filtered_words = pre_process(doc_words)\n",
    "    #print(filtered_words)\n",
    "    #insertInBOW(filtered_words)\n",
    "    str_ = ' '.join(filtered_words)  \n",
    "    f.close()\n",
    "    return str_"
   ]
  },
  {
   "cell_type": "code",
   "execution_count": 336,
   "metadata": {},
   "outputs": [],
   "source": [
    "def reading_dataset(cat_list, path, cat):\n",
    "    doc_id = 0\n",
    "    docsPointer = [] # where ecah category's documents end in document lists array (doc_list)\n",
    "    doc_list = [] \n",
    "    category = []\n",
    "    cat_names = cat_list\n",
    "    i = 0\n",
    "    for name in cat_names:\n",
    "        dirr = f'{path}/{name}/'\n",
    "        files = os.listdir(dirr)\n",
    "        filesDirectories = [dirr + file for file in files]\n",
    "\n",
    "        for file in filesDirectories:\n",
    "            doc_words = read_doc(file)\n",
    "            doc_list.append(doc_words)\n",
    "            category.append(i)\n",
    "            #print(doc_list)\n",
    "            #print(str_,i)\n",
    "            doc_id += 1\n",
    "        i=i+1\n",
    "        docsPointer.append(doc_id-1)\n",
    "        print(\"read \",doc_id, \" documents\")\n",
    "    print_noOfDoc(docsPointer,cat)\n",
    "    return doc_list,category"
   ]
  },
  {
   "cell_type": "code",
   "execution_count": 337,
   "metadata": {},
   "outputs": [],
   "source": [
    "def print_noOfDoc(docsPointer,cat):\n",
    "    noOfDoc= []\n",
    "    #Printing no of documents in each category\n",
    "    for i in range(len(docsPointer)):\n",
    "        if i==0:\n",
    "            noOfDoc.append(docsPointer[i]+1)\n",
    "        else:\n",
    "            noOfDoc.append(docsPointer[i]-docsPointer[i-1])\n",
    "    print(f\"No of docs in each category of {cat} dataset\",noOfDoc)\n"
   ]
  },
  {
   "cell_type": "code",
   "execution_count": 323,
   "metadata": {},
   "outputs": [],
   "source": [
    "#len(doc_list)\n",
    "def purify_with_clustering(doc_list,category,cat_names):\n",
    "    \n",
    "    #Vectorizing\n",
    "    vectorizer = TfidfVectorizer()\n",
    "    vectorizer.fit(doc_list)\n",
    "    clus_vec = vectorizer.transform(doc_list).toarray()\n",
    "    #print(vec)\n",
    "    #len(clus_vec)\n",
    "    #len(category)\n",
    "    \n",
    "    #Clustering\n",
    "    km = KMeans(n_clusters =5)\n",
    "    km.fit(clus_vec)\n",
    "    clus_labels = km.labels_\n",
    "    \n",
    "    #Assigning clusters majority vote in a cluster\n",
    "    pointer = 0\n",
    "    count = [0,0,0,0,0]\n",
    "    for j in range(len(count)):\n",
    "        if j != 0:\n",
    "            pointer = docsPointer[j-1]+1\n",
    "            #print(pointer)\n",
    "\n",
    "        for i in range(pointer,docsPointer[j]):\n",
    "            if clus_labels[i] == 0:\n",
    "                count[0] +=1\n",
    "            elif clus_labels[i] == 1:\n",
    "                count[1] +=1\n",
    "            elif clus_labels[i] == 2:\n",
    "                count[2] +=1\n",
    "            elif clus_labels[i] == 3:\n",
    "                count[3] +=1\n",
    "            elif clus_labels[i] == 4:\n",
    "                count[4] +=1\n",
    "            else:\n",
    "                print(\"Error\")\n",
    "        print(\"number of docs of \", cat_names[j], \"in corresponding clusters are: \", count)\n",
    "        cat_clus = count.index(max(count)) # cat_clus is the category belong to which cluster\n",
    "        print(cat_names[j],\"'s cluster belongs to cluster\",cat_clus)\n",
    "        count = [0,0,0,0,0]\n",
    "        \n",
    "        #deleting documents which does not belong to its cluster\n",
    "        for i in range(pointer,docsPointer[j]):\n",
    "            if clus_labels[i] != cat_clus:\n",
    "                doc = doc_list[i]\n",
    "                cat = category[i]\n",
    "                doc_list.remove(doc)\n",
    "                category.remove(cat)\n",
    "                #print(\"Doc:\",doc_list[i], \"\\n its category:\", category[i])\n",
    "                #print(i)"
   ]
  },
  {
   "cell_type": "code",
   "execution_count": 324,
   "metadata": {},
   "outputs": [],
   "source": [
    "def train(doc_list, category):\n",
    "    vectorizer = CountVectorizer(ngram_range=(1,2), max_features=30000)\n",
    "    #features = vectorizer.get_feature_names()\n",
    "    #len(features)\n",
    "    #print(features)\n",
    "    vec_train = vectorizer.fit_transform(doc_list).toarray()\n",
    "    #print(vec_train)\n",
    "    #len(vec_train)\n",
    "    X_train, y_train = vec_train, category\n",
    "    classifier = MultinomialNB()\n",
    "    trained = classifier.fit(X_train, y_train)\n",
    "    return trained,vectorizer"
   ]
  },
  {
   "cell_type": "code",
   "execution_count": 325,
   "metadata": {},
   "outputs": [],
   "source": [
    "def predict(trained,vectorizer,docs):\n",
    "    #newDoc = read_doc(file)\n",
    "    #print(newDoc)\n",
    "    vec_test = vectorizer.transform(docs)\n",
    "    X_test = vec_test\n",
    "    #print(X_test.shape)\n",
    "    y_pred = trained.predict(X_test)\n",
    "    #print(\"prediction is: \", y_pred)\n",
    "    #accuracy_score(y_test,y_pred)\n",
    "    return y_pred"
   ]
  },
  {
   "cell_type": "code",
   "execution_count": 339,
   "metadata": {},
   "outputs": [
    {
     "name": "stdout",
     "output_type": "stream",
     "text": [
      "Reading main dataset...\n",
      "read  510  documents\n",
      "read  896  documents\n",
      "read  1313  documents\n",
      "read  1824  documents\n",
      "read  2225  documents\n",
      "No of docs in each category of Main dataset [510, 386, 417, 511, 401]\n"
     ]
    }
   ],
   "source": [
    "print(\"Reading main dataset...\")\n",
    "cat_list_main = ['business','entertainment','politics','sport','tech']\n",
    "path_main = 'C:/Users/user/Desktop/bbc'\n",
    "doc_list_main, category_main = [],[]\n",
    "doc_list_main, category_main = reading_dataset(cat_list_main,path_main, \"Main\")\n",
    "#purify_with_clustering(doc_list_main,category_main,cat_list_main)"
   ]
  },
  {
   "cell_type": "code",
   "execution_count": 340,
   "metadata": {},
   "outputs": [
    {
     "name": "stdout",
     "output_type": "stream",
     "text": [
      "Training main dataset...\n",
      "Done\n"
     ]
    }
   ],
   "source": [
    "print(\"Training main dataset...\")\n",
    "trained_main,vec_main = train(doc_list_main, category_main)\n",
    "print(\"Done\")"
   ]
  },
  {
   "cell_type": "code",
   "execution_count": 341,
   "metadata": {},
   "outputs": [
    {
     "name": "stdout",
     "output_type": "stream",
     "text": [
      "Reading sports dataset...\n",
      "read  101  documents\n",
      "read  225  documents\n",
      "read  490  documents\n",
      "read  637  documents\n",
      "read  737  documents\n",
      "No of docs in each category of Sports dataset [101, 124, 265, 147, 100]\n"
     ]
    }
   ],
   "source": [
    "print(\"Reading sports dataset...\")\n",
    "cat_list_sports = ['athletics','cricket','football','rugby','tennis']\n",
    "path_sports = 'C:/Users/user/Desktop/bbcsport'\n",
    "doc_list_sports, category_sports = [],[]\n",
    "doc_list_sports, category_sports = reading_dataset(cat_list_sports,path_sports, \"Sports\")\n",
    "#purify_with_clustering(doc_list_main,category_main)"
   ]
  },
  {
   "cell_type": "code",
   "execution_count": 329,
   "metadata": {},
   "outputs": [
    {
     "name": "stdout",
     "output_type": "stream",
     "text": [
      "Training sports dataset...\n",
      "Done\n"
     ]
    }
   ],
   "source": [
    "print(\"Training sports dataset...\")\n",
    "trained_sports,vec_sports = train(doc_list_sports, category_sports)\n",
    "print(\"Done\")"
   ]
  },
  {
   "cell_type": "code",
   "execution_count": 330,
   "metadata": {},
   "outputs": [],
   "source": [
    "def pred_doc(docs):\n",
    "    #print(\"Predicting the main category...\")\n",
    "    mainPred = predict(trained_main,vec_main,docs)[0]\n",
    "    output = f\"The document belongs to {cat_list_main[mainPred]}.\"\n",
    "    if mainPred==3:\n",
    "        sportPred = predict(trained_sports,vec_sports,docs)[0]\n",
    "        out_other = f\" And in {cat_list_main[mainPred]} category it belongs to {cat_list_sports[sportPred]}\"\n",
    "        output = output + out_other\n",
    "    return output"
   ]
  },
  {
   "cell_type": "code",
   "execution_count": null,
   "metadata": {},
   "outputs": [],
   "source": [
    "def open_doc():\n",
    "    docs = []\n",
    "    doc_file = filedialog.askopenfilename(initialdir='C:/Users/user/Desktop', title= \"open document\", filetypes=((\"Text Files\", \"*.txt\"),))\n",
    "    doc_file = open(doc_file, 'r') \n",
    "    s_list = (doc_file.read().split())\n",
    "    newDoc = ' '.join(s_list)\n",
    "    doc_file.close()\n",
    "    docs.append(newDoc)\n",
    "    Result_Field['text'] = pred_doc(docs)\n",
    "    \n",
    "root = Tk()\n",
    "root.title('CLASSIFICATION OF NEWS DOCUMENTS')\n",
    "\n",
    "master = LabelFrame(root, bg='grey', padx=40, pady=40, width=800, height=800)\n",
    "master.pack()\n",
    "\n",
    "title = Label(master, text=\"CLASSIFICATION SYSTEM\", font=\"Times 10 bold\")\n",
    "title.pack(pady=20)\n",
    "\n",
    "Query_Frame = LabelFrame(master, text=\"PLACE YOUR DOCUMENT\", font=\"Times 10 bold\", bg='grey')\n",
    "Query_Frame.pack(pady=20)\n",
    "\n",
    "#Query_Field = Entry(Query_Frame, width=12000, bg=\"white\", fg='black')\n",
    "#Query_Field.pack(pady=20)\n",
    "open_button = Button(master, text=\"Open your document\", command=open_doc)\n",
    "open_button.pack(pady=20)\n",
    "#b = Button(Query_Frame, text=\"Enter\", command=lambda: entered(Query_Field.get()))\n",
    "#b.pack()\n",
    "\n",
    "output = LabelFrame(master, text=\"category\", font=\"Times 10 bold\", width=12000, height=50)\n",
    "output.pack(pady=20)\n",
    "\n",
    "Result_Field = Label(output, text=\"\", width=200, font=\"Times 10 bold\")\n",
    "Result_Field.pack()\n",
    "output.pack_propagate(0)\n",
    "root.mainloop()"
   ]
  },
  {
   "cell_type": "code",
   "execution_count": null,
   "metadata": {},
   "outputs": [],
   "source": []
  },
  {
   "cell_type": "code",
   "execution_count": 213,
   "metadata": {},
   "outputs": [
    {
     "data": {
      "text/plain": [
       "Text(0, 0.5, 'Accuracy')"
      ]
     },
     "execution_count": 213,
     "metadata": {},
     "output_type": "execute_result"
    },
    {
     "data": {
      "image/png": "[encoded data removed]",
      "text/plain": [
       "<Figure size 864x432 with 1 Axes>"
      ]
     },
     "metadata": {
      "needs_background": "light"
     },
     "output_type": "display_data"
    }
   ],
   "source": [
    "'''plt.figure(figsize=(12, 6))\n",
    "plt.plot(range(1, 10), accuracies, color='red', linestyle='dashed', marker='o',\n",
    "         markerfacecolor='blue', markersize=10)\n",
    "plt.title('Accuracies for K Value')\n",
    "plt.xlabel('K Value')\n",
    "plt.ylabel('Accuracy')'''"
   ]
  }
 ],
 "metadata": {
  "kernelspec": {
   "display_name": "Python 3",
   "language": "python",
   "name": "python3"
  },
  "language_info": {
   "codemirror_mode": {
    "name": "ipython",
    "version": 3
   },
   "file_extension": ".py",
   "mimetype": "text/x-python",
   "name": "python",
   "nbconvert_exporter": "python",
   "pygments_lexer": "ipython3",
   "version": "3.8.5"
  }
 },
 "nbformat": 4,
 "nbformat_minor": 4
}
